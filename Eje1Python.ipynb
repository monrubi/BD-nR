{
 "cells": [
  {
   "cell_type": "code",
   "execution_count": 6,
   "metadata": {},
   "outputs": [],
   "source": [
    "def muevete(k, lista):\n",
    "    aux = [0]*abs(k)\n",
    "    if k > 0:\n",
    "        lista = aux + lista\n",
    "        del lista[len(lista)-k:len(lista)]\n",
    "    elif k<0:\n",
    "        lista = lista + aux\n",
    "        del lista[0:abs(k)]\n",
    "    return lista "
   ]
  },
  {
   "cell_type": "code",
   "execution_count": 7,
   "metadata": {},
   "outputs": [],
   "source": [
    "lista = [1,2,3]"
   ]
  },
  {
   "cell_type": "code",
   "execution_count": 9,
   "metadata": {},
   "outputs": [
    {
     "data": {
      "text/plain": [
       "[1, 2, 3]"
      ]
     },
     "execution_count": 9,
     "metadata": {},
     "output_type": "execute_result"
    }
   ],
   "source": [
    "muevete(0,lista)"
   ]
  },
  {
   "cell_type": "code",
   "execution_count": 41,
   "metadata": {},
   "outputs": [],
   "source": [
    "#b\n",
    "def sum_mat(A,B):\n",
    "    suma = []\n",
    "    if len(A) == len(B) and len(A[0]) == len(B[0]):\n",
    "        renglon = [0]*len(A[0])\n",
    "        suma = [renglon]*len(A)\n",
    "        print(suma)\n",
    "        for i in range(len(A)):\n",
    "            for j in range(len(A[0])):\n",
    "                print(i,j)\n",
    "                print(A[i][j]+B[i][j])\n",
    "                suma[i][j] = A[i][j]+B[i][j]\n",
    "    return suma"
   ]
  },
  {
   "cell_type": "code",
   "execution_count": 45,
   "metadata": {},
   "outputs": [],
   "source": [
    "#b\n",
    "def sum_mat2(A,B):\n",
    "    suma = []\n",
    "    if len(A) == len(B) and len(A[0]) == len(B[0]):\n",
    "        for i in range(len(A)):\n",
    "            suma.append([])\n",
    "            for j in range(len(A[0])):\n",
    "                suma[i].append(A[i][j]+B[i][j])\n",
    "    return suma"
   ]
  },
  {
   "cell_type": "code",
   "execution_count": 11,
   "metadata": {},
   "outputs": [],
   "source": [
    "A,B=[[1,2,3],[4,5,6]], [[3,4,5],[6,7,8]]"
   ]
  },
  {
   "cell_type": "code",
   "execution_count": 13,
   "metadata": {},
   "outputs": [
    {
     "data": {
      "text/plain": [
       "[[1, 2, 3], [4, 5, 6]]"
      ]
     },
     "execution_count": 13,
     "metadata": {},
     "output_type": "execute_result"
    }
   ],
   "source": [
    "A"
   ]
  },
  {
   "cell_type": "code",
   "execution_count": 46,
   "metadata": {},
   "outputs": [
    {
     "name": "stdout",
     "output_type": "stream",
     "text": [
      "0 0\n",
      "4\n",
      "0 1\n",
      "6\n",
      "0 2\n",
      "8\n",
      "1 0\n",
      "10\n",
      "1 1\n",
      "12\n",
      "1 2\n",
      "14\n"
     ]
    }
   ],
   "source": [
    "C = sum_mat2(A,B)"
   ]
  },
  {
   "cell_type": "code",
   "execution_count": 47,
   "metadata": {},
   "outputs": [
    {
     "data": {
      "text/plain": [
       "[[4, 6, 8], [10, 12, 14]]"
      ]
     },
     "execution_count": 47,
     "metadata": {},
     "output_type": "execute_result"
    }
   ],
   "source": [
    "C"
   ]
  },
  {
   "cell_type": "code",
   "execution_count": null,
   "metadata": {},
   "outputs": [],
   "source": []
  }
 ],
 "metadata": {
  "kernelspec": {
   "display_name": "Python 3",
   "language": "python",
   "name": "python3"
  },
  "language_info": {
   "codemirror_mode": {
    "name": "ipython",
    "version": 3
   },
   "file_extension": ".py",
   "mimetype": "text/x-python",
   "name": "python",
   "nbconvert_exporter": "python",
   "pygments_lexer": "ipython3",
   "version": "3.7.3"
  }
 },
 "nbformat": 4,
 "nbformat_minor": 2
}
